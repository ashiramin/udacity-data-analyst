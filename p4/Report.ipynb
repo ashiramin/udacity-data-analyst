{
 "cells": [
  {
   "cell_type": "markdown",
   "metadata": {},
   "source": [
    "# Open Street Map Project\n",
    "## Ashir Amin\n",
    "\n",
    "https://mapzen.com/data/metro-extracts/#austin-texas\n",
    "\n",
    "1. Problems Encountered \n",
    "   * Street Names Abbreviated\n",
    "   * Phone Numbers not correctly formatted\n",
    "2. Data Overview\n",
    "3. Additional Ideas\n"
   ]
  },
  {
   "cell_type": "code",
   "execution_count": 10,
   "metadata": {
    "collapsed": true
   },
   "outputs": [],
   "source": [
    "from pymongo import MongoClient\n",
    "import os\n",
    "client = MongoClient()\n",
    "db = client.testdb[\"osm\"]"
   ]
  },
  {
   "cell_type": "markdown",
   "metadata": {},
   "source": [
    "## Problems Encountered in the Data\n",
    "\n",
    "I ran count_tags.py to get a rough idea of type of keys in the tags element and dumped the data into a json file and examined to see how the data was spread. Majority of the keys belong to the addr prefix.\n",
    "\n",
    "Next step was to sample some values out of each of the these see where there is oppertunity to clean data before importing it into MongoDB\n",
    "\n",
    "Examining the data showed to Geographical encoding system were being used GNIS and TIGER with TIGER being more comprehensive.\n",
    "\n",
    "There were some tags with just one one occurence and some that I couldn't really make sense of. Like 'FIXME' which is sort of a flag/comment made by users if they felt the information may be incorrect.\n",
    "\n",
    "For the purposes of this excercise I cleaned two fields within the tag element.\n",
    "* Abbreviated street names\n",
    "* Phone Number\n",
    "\n",
    "For the street names I wrote scrape.py that scraped a webpage to get the mapping of street names to its abbreviation set by USPS and added some custom prefix like IH,I35 (Interstate Highway 35) used it to clean street names.\n",
    "\n",
    "I found the phone numbers in the dataset to not follow any set standard of formatting so I used a python package phonenumbers to format them to (xxx) xxx-xxx\n",
    "\n"
   ]
  },
  {
   "cell_type": "markdown",
   "metadata": {},
   "source": [
    "## Data Overview\n",
    "\n",
    "#### Basic Statistics regaring the imported data set in the MongoDB"
   ]
  },
  {
   "cell_type": "code",
   "execution_count": 26,
   "metadata": {
    "collapsed": false
   },
   "outputs": [
    {
     "name": "stdout",
     "output_type": "stream",
     "text": [
      "701231\n"
     ]
    }
   ],
   "source": [
    "# Number of Documents\n",
    "print db.count()"
   ]
  },
  {
   "cell_type": "code",
   "execution_count": 25,
   "metadata": {
    "collapsed": false
   },
   "outputs": [
    {
     "name": "stdout",
     "output_type": "stream",
     "text": [
      "635008\n",
      "66223\n"
     ]
    }
   ],
   "source": [
    "# Number of Nodes and Ways\n",
    "\n",
    "# Nodes Count\n",
    "print db.find({'type':'node'}).count()\n",
    "\n",
    "# Way Count\n",
    "print db.find({ 'type' : 'way'}).count()\n",
    "\n"
   ]
  },
  {
   "cell_type": "code",
   "execution_count": 33,
   "metadata": {
    "collapsed": false
   },
   "outputs": [
    {
     "name": "stdout",
     "output_type": "stream",
     "text": [
      "697\n"
     ]
    }
   ],
   "source": [
    "# Unique Users\n",
    "print len(db.distinct(\"created.user\"))"
   ]
  },
  {
   "cell_type": "code",
   "execution_count": 47,
   "metadata": {
    "collapsed": false
   },
   "outputs": [
    {
     "data": {
      "text/plain": [
       "[{u'_id': u'patisilva_atxbuildings', u'count': 274500},\n",
       " {u'_id': u'ccjjmartin_atxbuildings', u'count': 130117},\n",
       " {u'_id': u'ccjjmartin__atxbuildings', u'count': 93953},\n",
       " {u'_id': u'wilsaj_atxbuildings', u'count': 35852},\n",
       " {u'_id': u'jseppi_atxbuildings', u'count': 30121}]"
      ]
     },
     "execution_count": 47,
     "metadata": {},
     "output_type": "execute_result"
    }
   ],
   "source": [
    "# Top 5 User By Contribution\n",
    "\n",
    "query = db.aggregate([\n",
    "        {\n",
    "            '$group': {\n",
    "                '_id': '$created.user',\n",
    "                'count': {\n",
    "                    '$sum': 1\n",
    "                    }\n",
    "            }\n",
    "        }, {\n",
    "            '$sort': {\n",
    "                'count': -1\n",
    "            }\n",
    "        }, {\n",
    "            '$limit' : 5\n",
    "        } \n",
    "        \n",
    "    ])\n",
    "    \n",
    "list(query)"
   ]
  },
  {
   "cell_type": "code",
   "execution_count": 49,
   "metadata": {
    "collapsed": false
   },
   "outputs": [
    {
     "name": "stdout",
     "output_type": "stream",
     "text": [
      "[{u'num_users': 175, u'_id': 1}]\n"
     ]
    }
   ],
   "source": [
    "# Total Users with one contribution\n",
    "\n",
    "query = db.aggregate([{\n",
    "           '$group': {\n",
    "                '_id': '$created.user',\n",
    "                'count': {\n",
    "                    '$sum': 1\n",
    "                    }\n",
    "            } \n",
    "        }, {\n",
    "            '$group' : {\n",
    "                '_id': '$count',\n",
    "                'num_users': {\n",
    "                    '$sum' : 1\n",
    "                }\n",
    "            }\n",
    "        }, {\n",
    "            '$sort': {\n",
    "                '_id': 1\n",
    "              }\n",
    "            \n",
    "        }, {\n",
    "            '$limit' : 1\n",
    "        }\n",
    "        \n",
    "    ])\n",
    "\n",
    "print list(query)"
   ]
  },
  {
   "cell_type": "code",
   "execution_count": 71,
   "metadata": {
    "collapsed": false
   },
   "outputs": [
    {
     "name": "stdout",
     "output_type": "stream",
     "text": [
      "[{u'count': 1080, u'_id': [u'78645']}, {u'count': 561, u'_id': [u'78734']}, {u'count': 350, u'_id': [u'78660']}, {u'count': 344, u'_id': [u'78653']}, {u'count': 315, u'_id': [u'78669']}]\n"
     ]
    }
   ],
   "source": [
    "# Top 5 Zipcodes\n",
    "\n",
    "query = db.aggregate([ {\n",
    "            '$match' : {\n",
    "                'zipcode' : {\n",
    "                    '$exists' : 1\n",
    "                }\n",
    "            }\n",
    "        }, {\n",
    "            '$group' : {\n",
    "                '_id' : '$zipcode',\n",
    "                'count' : {\n",
    "                    '$sum' : 1\n",
    "                }\n",
    "            }\n",
    "        }, {\n",
    "            '$sort' : {\n",
    "                'count' : -1\n",
    "            }\n",
    "        }, {\n",
    "            '$limit' : 5\n",
    "        }\n",
    "    ])\n",
    "\n",
    "print list(query)"
   ]
  },
  {
   "cell_type": "code",
   "execution_count": 78,
   "metadata": {
    "collapsed": false
   },
   "outputs": [
    {
     "name": "stdout",
     "output_type": "stream",
     "text": [
      "[{u'count': 701177, u'_id': u'contact_number'}]\n"
     ]
    }
   ],
   "source": [
    "# Documents without a phone number\n",
    "\n",
    "query = db.aggregate([ {\n",
    "            '$match' : {\n",
    "                'contact_number' : {\n",
    "                    '$exists' : 0\n",
    "                }\n",
    "            }\n",
    "        }, {\n",
    "            '$group' : {\n",
    "                '_id' : 'contact_number',\n",
    "                'count': {\n",
    "                    '$sum' : 1\n",
    "                }\n",
    "            }\n",
    "        }\n",
    "        \n",
    "    ])\n",
    "\n",
    "print list(query)"
   ]
  },
  {
   "cell_type": "markdown",
   "metadata": {},
   "source": [
    "## Additional Ideas\n",
    " \n",
    "* Contribution by user is heavily skewed with the top few contributing the most. It is evident by the fact that out 697 users 175 of those have contributed to just once.\n",
    "* According to http://wiki.openstreetmap.org/wiki/TIGER the last data import was in 2005 which is a considereable time and a lot of changes may have happenned since then. It would be nice if this data was cross-validated with Google Maps data because some of the places that existed back then may not exists anymore\n",
    "* In terms of validation there is alot more room for improvement. I validated phone numbers and street addresses but after more exploration other fields can be cleaned \n",
    "* I felt most of the queries revolvled around places and not essentialy directions between a sources and direction\n",
    "* While data can be further clean but I believe for the purposes of this exercise. I did sufficient cleaning"
   ]
  },
  {
   "cell_type": "code",
   "execution_count": null,
   "metadata": {
    "collapsed": true
   },
   "outputs": [],
   "source": []
  }
 ],
 "metadata": {
  "kernelspec": {
   "display_name": "Python 2",
   "language": "python",
   "name": "python2"
  },
  "language_info": {
   "codemirror_mode": {
    "name": "ipython",
    "version": 2
   },
   "file_extension": ".py",
   "mimetype": "text/x-python",
   "name": "python",
   "nbconvert_exporter": "python",
   "pygments_lexer": "ipython2",
   "version": "2.7.10"
  }
 },
 "nbformat": 4,
 "nbformat_minor": 0
}
